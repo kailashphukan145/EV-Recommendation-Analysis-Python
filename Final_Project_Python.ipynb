{
 "cells": [
  {
   "cell_type": "code",
   "execution_count": 5,
   "id": "e390e3d9-8705-4304-a05c-3f65592a4f30",
   "metadata": {},
   "outputs": [
    {
     "name": "stdout",
     "output_type": "stream",
     "text": [
      "                      Car full name  Make                        Model  \\\n",
      "0            Audi e-tron 55 quattro  Audi            e-tron 55 quattro   \n",
      "1            Audi e-tron 50 quattro  Audi            e-tron 50 quattro   \n",
      "2             Audi e-tron S quattro  Audi             e-tron S quattro   \n",
      "3  Audi e-tron Sportback 50 quattro  Audi  e-tron Sportback 50 quattro   \n",
      "4  Audi e-tron Sportback 55 quattro  Audi  e-tron Sportback 55 quattro   \n",
      "\n",
      "   Minimal price (gross) [PLN]  Engine power [KM]  Maximum torque [Nm]  \\\n",
      "0                       345700                360                  664   \n",
      "1                       308400                313                  540   \n",
      "2                       414900                503                  973   \n",
      "3                       319700                313                  540   \n",
      "4                       357000                360                  664   \n",
      "\n",
      "        Type of brakes Drive type  Battery capacity [kWh]  Range (WLTP) [km]  \\\n",
      "0  disc (front + rear)        4WD                    95.0                438   \n",
      "1  disc (front + rear)        4WD                    71.0                340   \n",
      "2  disc (front + rear)        4WD                    95.0                364   \n",
      "3  disc (front + rear)        4WD                    71.0                346   \n",
      "4  disc (front + rear)        4WD                    95.0                447   \n",
      "\n",
      "   ...  Permissable gross weight [kg]  Maximum load capacity [kg]  \\\n",
      "0  ...                         3130.0                       640.0   \n",
      "1  ...                         3040.0                       670.0   \n",
      "2  ...                         3130.0                       565.0   \n",
      "3  ...                         3040.0                       640.0   \n",
      "4  ...                         3130.0                       670.0   \n",
      "\n",
      "   Number of seats  Number of doors  Tire size [in]  Maximum speed [kph]  \\\n",
      "0                5                5              19                  200   \n",
      "1                5                5              19                  190   \n",
      "2                5                5              20                  210   \n",
      "3                5                5              19                  190   \n",
      "4                5                5              19                  200   \n",
      "\n",
      "   Boot capacity (VDA) [l]  Acceleration 0-100 kph [s]  \\\n",
      "0                    660.0                         5.7   \n",
      "1                    660.0                         6.8   \n",
      "2                    660.0                         4.5   \n",
      "3                    615.0                         6.8   \n",
      "4                    615.0                         5.7   \n",
      "\n",
      "   Maximum DC charging power [kW]  mean - Energy consumption [kWh/100 km]  \n",
      "0                             150                                   24.45  \n",
      "1                             150                                   23.80  \n",
      "2                             150                                   27.55  \n",
      "3                             150                                   23.30  \n",
      "4                             150                                   23.85  \n",
      "\n",
      "[5 rows x 25 columns]\n"
     ]
    }
   ],
   "source": [
    "import pandas as pd\n",
    "import numpy as np\n",
    "fev_df=pd.read_csv(\"fev_data.csv\")\n",
    "print(fev_df.head())"
   ]
  },
  {
   "cell_type": "code",
   "execution_count": null,
   "id": "1e0c1686-f07b-40d4-bdec-c6b954be2431",
   "metadata": {},
   "outputs": [],
   "source": [
    "## Import the dataset as a CSV file and display the first 5 rows for each of the 25 columns."
   ]
  },
  {
   "cell_type": "code",
   "execution_count": 26,
   "id": "7de574c8-7988-4927-9983-fb86b990ddda",
   "metadata": {},
   "outputs": [
    {
     "name": "stdout",
     "output_type": "stream",
     "text": [
      "                        Car full name  Minimal price (gross) [PLN]  \\\n",
      "0              Audi e-tron 55 quattro                       345700   \n",
      "8                             BMW iX3                       282900   \n",
      "15        Hyundai Kona electric 64kWh                       178400   \n",
      "18                   Kia e-Niro 64kWh                       167990   \n",
      "20                   Kia e-Soul 64kWh                       160990   \n",
      "22                  Mercedes-Benz EQC                       334700   \n",
      "39  Tesla Model 3 Standard Range Plus                       195490   \n",
      "40           Tesla Model 3 Long Range                       235490   \n",
      "41          Tesla Model 3 Performance                       260490   \n",
      "47    Volkswagen ID.3 Pro Performance                       155890   \n",
      "48              Volkswagen ID.3 Pro S                       179990   \n",
      "49                Volkswagen ID.4 1st                       202390   \n",
      "\n",
      "    Range (WLTP) [km]  \n",
      "0                 438  \n",
      "8                 460  \n",
      "15                449  \n",
      "18                455  \n",
      "20                452  \n",
      "22                414  \n",
      "39                430  \n",
      "40                580  \n",
      "41                567  \n",
      "47                425  \n",
      "48                549  \n",
      "49                500  \n"
     ]
    }
   ],
   "source": [
    "## Task 1: A customer has a budget of 350,000 PLN and wants an EV with a minimum range\n",
    "## of 400 km.\n",
    "## a) Your task is to filter out EVs that meet these criteria.\n",
    "\n",
    "filtered_data = fev_df[\n",
    "    (fev_df[\"Minimal price (gross) [PLN]\"] <= 350000)&\n",
    "    (fev_df[\"Range (WLTP) [km]\"] >= 400)]\n",
    "print(filtered_data[[\"Car full name\", \"Minimal price (gross) [PLN]\", \"Range (WLTP) [km]\"]])"
   ]
  },
  {
   "cell_type": "code",
   "execution_count": 17,
   "id": "65a13c30-0e15-460b-b97a-612171dceb2d",
   "metadata": {},
   "outputs": [
    {
     "name": "stdout",
     "output_type": "stream",
     "text": [
      "\n",
      "Manufacturer: Audi\n",
      "            Car full name  Minimal price (gross) [PLN]  Range (WLTP) [km]\n",
      "0  Audi e-tron 55 quattro                       345700                438\n",
      "\n",
      "Manufacturer: BMW\n",
      "  Car full name  Minimal price (gross) [PLN]  Range (WLTP) [km]\n",
      "8       BMW iX3                       282900                460\n",
      "\n",
      "Manufacturer: Hyundai\n",
      "                  Car full name  Minimal price (gross) [PLN]  \\\n",
      "15  Hyundai Kona electric 64kWh                       178400   \n",
      "\n",
      "    Range (WLTP) [km]  \n",
      "15                449  \n",
      "\n",
      "Manufacturer: Kia\n",
      "       Car full name  Minimal price (gross) [PLN]  Range (WLTP) [km]\n",
      "18  Kia e-Niro 64kWh                       167990                455\n",
      "20  Kia e-Soul 64kWh                       160990                452\n",
      "\n",
      "Manufacturer: Mercedes-Benz\n",
      "        Car full name  Minimal price (gross) [PLN]  Range (WLTP) [km]\n",
      "22  Mercedes-Benz EQC                       334700                414\n",
      "\n",
      "Manufacturer: Tesla\n",
      "                        Car full name  Minimal price (gross) [PLN]  \\\n",
      "39  Tesla Model 3 Standard Range Plus                       195490   \n",
      "40           Tesla Model 3 Long Range                       235490   \n",
      "41          Tesla Model 3 Performance                       260490   \n",
      "\n",
      "    Range (WLTP) [km]  \n",
      "39                430  \n",
      "40                580  \n",
      "41                567  \n",
      "\n",
      "Manufacturer: Volkswagen\n",
      "                      Car full name  Minimal price (gross) [PLN]  \\\n",
      "47  Volkswagen ID.3 Pro Performance                       155890   \n",
      "48            Volkswagen ID.3 Pro S                       179990   \n",
      "49              Volkswagen ID.4 1st                       202390   \n",
      "\n",
      "    Range (WLTP) [km]  \n",
      "47                425  \n",
      "48                549  \n",
      "49                500  \n"
     ]
    }
   ],
   "source": [
    "##  b) Group them by the manufacturer (Make).\n",
    "\n",
    "filtered_data = fev_df[\n",
    "    (fev_df[\"Minimal price (gross) [PLN]\"] <= 350000)&\n",
    "    (fev_df[\"Range (WLTP) [km]\"] >= 400)]\n",
    "make_group = filtered_data.groupby(\"Make\")\n",
    "for make, group in make_group:\n",
    "    print(f\"\\nManufacturer: {make}\")\n",
    "    print(group[[\"Car full name\", \"Minimal price (gross) [PLN]\", \"Range (WLTP) [km]\"]])"
   ]
  },
  {
   "cell_type": "code",
   "execution_count": 7,
   "id": "53b6900a-afac-4365-a3a8-99ffd08a7841",
   "metadata": {},
   "outputs": [
    {
     "name": "stdout",
     "output_type": "stream",
     "text": [
      "Make\n",
      "Audi             95.000000\n",
      "BMW              80.000000\n",
      "Hyundai          64.000000\n",
      "Kia              64.000000\n",
      "Mercedes-Benz    80.000000\n",
      "Tesla            68.000000\n",
      "Volkswagen       70.666667\n",
      "Name: Battery capacity [kWh], dtype: float64\n"
     ]
    }
   ],
   "source": [
    "##  c) Calculate the average battery capacity for each manufacturer.\n",
    "\n",
    "filtered_data = fev_df[\n",
    "    (fev_df[\"Minimal price (gross) [PLN]\"] <= 350000)&\n",
    "    (fev_df[\"Range (WLTP) [km]\"] >= 400)]\n",
    "average_battery_capacity = filtered_data.groupby(\"Make\")[\"Battery capacity [kWh]\"].mean()\n",
    "print(average_battery_capacity)"
   ]
  },
  {
   "cell_type": "code",
   "execution_count": null,
   "id": "5f16aa95-4542-4820-81c5-d42cf944dc6e",
   "metadata": {},
   "outputs": [],
   "source": [
    "## In the above task, I applied basic comparison operators to find EVs whose price is less than 350,000 and range is greater than 400.\n",
    "## By doing this, I found 12 cars that met the criteria. Then, I used the group by function to group the cars by their manufacturers.\n",
    "## Finally, I calculated the average battery capacity for each manufacturer using the mean function.\n"
   ]
  },
  {
   "cell_type": "code",
   "execution_count": 9,
   "id": "9dc7f785-17fe-4831-8fe4-2403d6731ce7",
   "metadata": {},
   "outputs": [
    {
     "name": "stdout",
     "output_type": "stream",
     "text": [
      "Empty DataFrame\n",
      "Columns: [Car full name, mean - Energy consumption [kWh/100 km]]\n",
      "Index: []\n"
     ]
    }
   ],
   "source": [
    "## Task 2: You suspect some EVs have unusually high or low energy consumption. Find the\n",
    "## outliers in the mean- Energy consumption [kWh/100 km] column.\n",
    "\n",
    "# Calculate the Q1, Q3, and IQR for the mean energy consumption\n",
    "Q1 = fev_df[\"mean - Energy consumption [kWh/100 km]\"].quantile(0.25)\n",
    "Q3 = fev_df[\"mean - Energy consumption [kWh/100 km]\"].quantile(0.75)\n",
    "IQR = Q3 - Q1\n",
    "lb = Q1 - 1.5 * IQR    # Define lower and upper bounds for outliers\n",
    "ub = Q3 + 1.5 * IQR\n",
    "# Find outliers\n",
    "outliers = fev_df[\n",
    "    (fev_df[\"mean - Energy consumption [kWh/100 km]\"] < lb)| \n",
    "    (fev_df[\"mean - Energy consumption [kWh/100 km]\"] > ub)\n",
    "]\n",
    "print(outliers[[\"Car full name\", \"mean - Energy consumption [kWh/100 km]\"]]) # Display the outliers\n"
   ]
  },
  {
   "cell_type": "code",
   "execution_count": null,
   "id": "debc81ac-0d15-4131-84b2-a34083d20858",
   "metadata": {},
   "outputs": [],
   "source": [
    "## For the above task, I used the Interquartile Range (IQR) method to find outliers. I applied the formula to calculate the results, \n",
    "## but I did not find any outliers in the energy consumption data\n"
   ]
  },
  {
   "cell_type": "code",
   "execution_count": 48,
   "id": "d1ce4859-2b43-4723-8ebf-9836ffc17f70",
   "metadata": {},
   "outputs": [
    {
     "data": {
      "image/png": "[encoded data removed]",
      "text/plain": [
       "<Figure size 640x480 with 1 Axes>"
      ]
     },
     "metadata": {},
     "output_type": "display_data"
    }
   ],
   "source": [
    "##  Task 3: Your manager wants to know if there's a strong relationship between battery capacity and range.\n",
    "## a) Create a suitable plot to visualize.\n",
    "\n",
    "import matplotlib.pyplot as plt\n",
    "plt.scatter( fev_df[\"Battery capacity [kWh]\"],fev_df[\"Range (WLTP) [km]\"])\n",
    "# Add titles and labels\n",
    "plt.title(\"Battery Capacity vs Range\")\n",
    "plt.xlabel(\"Battery Capacity [kWh]\")\n",
    "plt.ylabel(\"Range (WLTP) [km]\")\n",
    "plt.grid(True)\n",
    "plt.show()"
   ]
  },
  {
   "cell_type": "code",
   "execution_count": 11,
   "id": "52b94a97-d2f5-4b00-b62b-42185fed5680",
   "metadata": {},
   "outputs": [
    {
     "name": "stdout",
     "output_type": "stream",
     "text": [
      "0.8104385771936842 1.9463993727927223e-13\n"
     ]
    }
   ],
   "source": [
    "##  b) Highlight any insights\n",
    "from scipy.stats import pearsonr\n",
    "battery_capacity = fev_df[\"Battery capacity [kWh]\"]\n",
    "range_wltp = fev_df[\"Range (WLTP) [km]\"]\n",
    "corr_coef, p_value = pearsonr(battery_capacity, range_wltp)\n",
    "print(corr_coef, p_value)\n",
    "## The Pearson correlation coefficient between battery capacity and range is 0.81, which indicates a strong positive relationship. \n",
    "## From the p-value, it indicates that the correlation is statistically significant\n",
    "## Generally, as battery capacity increases, the range also increases. "
   ]
  },
  {
   "cell_type": "code",
   "execution_count": null,
   "id": "36498bfc-0dad-4108-9008-5f38cbcf7ef8",
   "metadata": {},
   "outputs": [],
   "source": [
    "## In the above task, I used Matplotlib to visualize the relationship between battery capacity and range.\n",
    "## From the plot, I observed that as battery capacity increases, the range also increases.\n",
    "## The Pearson correlation coefficient between battery capacity and range is 0.81, indicating a strong positive relationship. \n",
    "## I also calculated the p-value, which showed that the correlation is statistically significant."
   ]
  },
  {
   "cell_type": "code",
   "execution_count": 25,
   "id": "605ec670-17ea-4df3-98c1-cca6ee795529",
   "metadata": {},
   "outputs": [
    {
     "name": "stdin",
     "output_type": "stream",
     "text": [
      "Enter your budget (in PLN):  345000\n",
      "Enter your desired minimum range (in km):  440\n",
      "Enter your desired minimum battery capacity (in kWh):  75\n"
     ]
    },
    {
     "name": "stdout",
     "output_type": "stream",
     "text": [
      "\n",
      "Top 3 EVs matching your preferences:\n",
      "               Car full name  Minimal price (gross) [PLN]  Range (WLTP) [km]  \\\n",
      "48     Volkswagen ID.3 Pro S                       179990                549   \n",
      "49       Volkswagen ID.4 1st                       202390                500   \n",
      "40  Tesla Model 3 Long Range                       235490                580   \n",
      "\n",
      "    Battery capacity [kWh]  \n",
      "48                    77.0  \n",
      "49                    77.0  \n",
      "40                    75.0  \n"
     ]
    }
   ],
   "source": [
    "##  Task 4: Build an EV recommendation class. The class should allow users to input their\n",
    "## budget, desired range, and battery capacity. The class should then return the top three EVs\n",
    "## matching their criteria.\n",
    "\n",
    "class EV_data:\n",
    "    def __init__(self, a):\n",
    "        self.fev_df = pd.read_csv(a)\n",
    "\n",
    "    def your_input(self):\n",
    "        self.budget = int(input(\"Enter your budget (in PLN): \"))\n",
    "        self.min_range = int(input(\"Enter your desired minimum range (in km): \"))\n",
    "        self.min_battery_capacity = float(input(\"Enter your desired minimum battery capacity (in kWh): \"))\n",
    "\n",
    "    def recommend(self):\n",
    "        # Filter based on user input\n",
    "        filtered = self.fev_df[\n",
    "            (self.fev_df[\"Minimal price (gross) [PLN]\"] <= self.budget) &\n",
    "            (self.fev_df[\"Range (WLTP) [km]\"] >= self.min_range) &\n",
    "            (self.fev_df[\"Battery capacity [kWh]\"] >= self.min_battery_capacity)\n",
    "        ]\n",
    "\n",
    "        # Sort by price ascending (cheapest first)\n",
    "        recommended_to_user= filtered.sort_values(by=\"Minimal price (gross) [PLN]\").head(3)\n",
    "\n",
    "        if recommended_to_user.empty:\n",
    "            print(\"\\nSorry, no EVs match your criteria.\")\n",
    "        else:\n",
    "            print(\"\\nTop 3 EVs matching your preferences:\")\n",
    "            print(recommended_to_user[['Car full name', 'Minimal price (gross) [PLN]', 'Range (WLTP) [km]', 'Battery capacity [kWh]']])\n",
    "\n",
    "    def run(self):\n",
    "        self.your_input()\n",
    "        self.recommend()\n",
    "\n",
    "# Usage\n",
    "recommender = EV_data('fev_data.csv')\n",
    "recommender.run()\n"
   ]
  },
  {
   "cell_type": "code",
   "execution_count": null,
   "id": "8d3aa256-44bd-4426-b1f7-9803f1e46005",
   "metadata": {},
   "outputs": [],
   "source": [
    "## In the above task, I built a class called EV_data. Using this, buyers can set their own criteria for purchasing a suitable car based on their needs.\n",
    "## They can select a budget, desired range, and battery capacity to find which cars are available within their criteria. \n",
    "## This will save buyers time in finding a suitable car. Once they select the budget, range, and battery capacity, \n",
    "## the program will automatically recommend the three best cars that meet their criteria."
   ]
  },
  {
   "cell_type": "code",
   "execution_count": 15,
   "id": "07fe6f5b-dde8-496d-8c73-408b82203eca",
   "metadata": {},
   "outputs": [
    {
     "name": "stdout",
     "output_type": "stream",
     "text": [
      "T-statistic: 1.794\n",
      "P-value: 0.10684\n"
     ]
    }
   ],
   "source": [
    "## Task 5: Inferential Statistics– Hypothesis Testing: Test whether there is a significant\n",
    "## difference in the average Engine power [KM] of vehicles manufactured by two leading\n",
    "## manufacturers i.e. Tesla and Audi. What insights can you draw from the test results?\n",
    "## Recommendations and Conclusion: Provide actionable insights based on your analysis.\n",
    "## (Conduct a two sample t-test using ttest_ind from scipy.stats module)\n",
    "\n",
    "from scipy.stats import ttest_ind\n",
    "tesla_car = fev_df[fev_df[\"Make\"] == \"Tesla\"][\"Engine power [KM]\"]\n",
    "audi_car = fev_df[fev_df[\"Make\"] == \"Audi\"][\"Engine power [KM]\"]\n",
    "t_statistic, p_value = ttest_ind(tesla_car, audi_car, equal_var=False)  # Welch's t-test\n",
    "print(f\"T-statistic: {t_statistic:.3f}\")\n",
    "print(f\"P-value: {p_value:.5f}\")"
   ]
  },
  {
   "cell_type": "code",
   "execution_count": null,
   "id": "f2b4a311-04df-4479-9d92-63187fd97813",
   "metadata": {},
   "outputs": [],
   "source": [
    "''' A two-sample independent t-test was conducted to compare the average Engine Power (measured in KM) between Tesla and Audi vehicles.\n",
    "We know that if the p-value is less than 0.05, we reject the null hypothesis and conclude that there is a statistically significant difference in average engine power between Tesla and Audi vehicles. otherwise, if the p-value is greater than 0.05, we fail to reject the null hypothesis, implying that no significant difference exists in the average engine power between the two brands.\n",
    "Conclusion:\n",
    "In our case, we got p-value of 0.10684 which is greater than 0.05, so we fail to reject the null hypothesis, implying that no significant difference exists in the average engine power between the two brands.\n",
    "Recommendations:\n",
    "Buyers can base their decision more on other factors such as price, driving range, battery life, and design features rather than solely on engine power.\n",
    "Both companies need to focus on other factors very carefully.\n",
    "Actionable Insights:\n",
    "Integrate customer preference surveys to align EV offerings with market demands more precisely.'''\n"
   ]
  }
 ],
 "metadata": {
  "kernelspec": {
   "display_name": "Python [conda env:base] *",
   "language": "python",
   "name": "conda-base-py"
  },
  "language_info": {
   "codemirror_mode": {
    "name": "ipython",
    "version": 3
   },
   "file_extension": ".py",
   "mimetype": "text/x-python",
   "name": "python",
   "nbconvert_exporter": "python",
   "pygments_lexer": "ipython3",
   "version": "3.12.7"
  }
 },
 "nbformat": 4,
 "nbformat_minor": 5
}
